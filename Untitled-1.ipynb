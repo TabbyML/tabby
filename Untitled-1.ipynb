{
 "cells": [
  {
   "cell_type": "code",
   "execution_count": null,
   "metadata": {},
   "outputs": [],
   "source": [
    "def fibonacci_memoization(n, memo={}):\n",
    "    if n <= 0:\n",
    "        raise ValueError(\"Input should be a positive integer.\")\n",
    "    if n in memo:\n",
    "        return memo[n]\n",
    "    if n == 1:\n",
    "        return 0\n",
    "    elif n == 2:\n",
    "        return 1\n",
    "    else:\n",
    "        memo[n] = fibonacci_memoization(n - 1, memo) + fibonacci_memoization(n - 2, memo)\n",
    "        return memo[n]\n",
    "\n",
    "# Example usage:\n",
    "print(fibonacci_memoization(10))"
   ]
  }
 ],
 "metadata": {
  "language_info": {
   "name": "python"
  }
 },
 "nbformat": 4,
 "nbformat_minor": 2
}
