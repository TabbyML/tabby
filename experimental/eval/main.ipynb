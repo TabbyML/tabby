{
 "cells": [
  {
   "cell_type": "code",
   "execution_count": null,
   "id": "cd3b4cc2-0bb3-4fba-9c92-48e40f5419c4",
   "metadata": {
    "tags": [
     "parameters"
    ]
   },
   "outputs": [],
   "source": [
    "filepattern = \"tabby/dataset/data.jsonl\"\n",
    "api = \"http://localhost:8080\"\n",
    "max_records = 3"
   ]
  },
  {
   "cell_type": "code",
   "execution_count": null,
   "id": "2c4d4fa0-8692-4878-8df1-847dc06114a2",
   "metadata": {
    "tags": [
     "remove"
    ]
   },
   "outputs": [],
   "source": [
    "import pandas as pd\n",
    "from itables import init_notebook_mode\n",
    "import itables.options as opt\n",
    "\n",
    "init_notebook_mode(all_interactive=True)"
   ]
  },
  {
   "cell_type": "code",
   "execution_count": null,
   "id": "172d7105-ecac-4019-bbe1-dcd70ed6af60",
   "metadata": {
    "tags": [
     "remove"
    ]
   },
   "outputs": [],
   "source": [
    "from tabby_client import Client\n",
    "from tabby_client.api.v1 import health\n",
    "from tabby_client.api.v1 import completion\n",
    "\n",
    "from tabby_client.models import CompletionRequest, CompletionRequest, Segments, Choice\n",
    "\n",
    "import processing\n",
    "import editdistance\n",
    "\n",
    "\n",
    "def valid_item(item: processing.Item):\n",
    "    count_body_lines = len(item.body.splitlines())\n",
    "\n",
    "    if count_body_lines > 10:\n",
    "        return False\n",
    "\n",
    "    return True\n",
    "\n",
    "\n",
    "def scorer(label, prediction):\n",
    "    distance = editdistance.eval(label, prediction)\n",
    "    return max(0.0, 1.0 - distance / len(label))\n",
    "\n",
    "\n",
    "def run_eval():\n",
    "    client = Client(base_url=api, timeout=100)\n",
    "    try:\n",
    "        health.sync(client=client)\n",
    "    except:\n",
    "        print(f\"Tabby Server is not ready, please check if '{api}' is correct.\")\n",
    "        return\n",
    "\n",
    "    num_records = 0\n",
    "    for item in processing.items_from_filepattern(filepattern):\n",
    "        if not valid_item(item):\n",
    "            continue\n",
    "\n",
    "        request = CompletionRequest(\n",
    "            language=item.language, segments=Segments(prefix=item.prefix)\n",
    "        )\n",
    "\n",
    "        resp: CompletionResponse = completion.sync(client=client, json_body=request)\n",
    "        label = item.body\n",
    "        prediction = resp.choices[0].text\n",
    "\n",
    "        block_score = scorer(label, prediction)\n",
    "        line_score = scorer(label.splitlines()[0], prediction.splitlines()[0])\n",
    "\n",
    "        yield dict(\n",
    "            prompt=item.prefix,\n",
    "            prediction=prediction,\n",
    "            label=label,\n",
    "            block_score=block_score,\n",
    "            line_score=line_score,\n",
    "        )\n",
    "\n",
    "        num_records += 1\n",
    "        if num_records >= max_records:\n",
    "            break"
   ]
  },
  {
   "cell_type": "code",
   "execution_count": null,
   "id": "76c08e41-42fc-486a-96b3-5cf647635e90",
   "metadata": {
    "tags": [
     "remove"
    ]
   },
   "outputs": [],
   "source": [
    "df = pd.DataFrame(list(run_eval()))"
   ]
  },
  {
   "cell_type": "code",
   "execution_count": null,
   "id": "038f9c95-edf4-463a-a600-d1945b17c235",
   "metadata": {},
   "outputs": [],
   "source": [
    "import matplotlib.pyplot as plt\n",
    "\n",
    "fig, axes = plt.subplots(nrows=1, ncols=2, sharex=True, sharey=True, figsize=(15, 5))\n",
    "\n",
    "df.hist(\n",
    "    column=\"line_score\",\n",
    "    ax=axes[0],\n",
    ")\n",
    "\n",
    "df.hist(\n",
    "    column=\"block_score\",\n",
    "    ax=axes[1],\n",
    ")"
   ]
  },
  {
   "cell_type": "code",
   "execution_count": null,
   "id": "3b8d339e-4452-4e2c-823c-0f69f6eb4805",
   "metadata": {
    "tags": [
     "remove"
    ]
   },
   "outputs": [],
   "source": [
    "codeStyle = {\n",
    "    \"selector\": \"td\",\n",
    "    \"props\": [\n",
    "        (\"white-space\", \"pre\"),\n",
    "        (\"font-family\", \"monospace\"),\n",
    "        (\"text-align\", \"left\"),\n",
    "    ],\n",
    "}\n",
    "\n",
    "df.style.set_table_styles(\n",
    "    {\n",
    "        \"prompt\": [codeStyle],\n",
    "        \"prediction\": [codeStyle],\n",
    "        \"label\": [codeStyle],\n",
    "    }\n",
    ")"
   ]
  },
  {
   "cell_type": "code",
   "execution_count": null,
   "id": "3a3eb92d-c349-426e-ab55-31ae6c80aaed",
   "metadata": {},
   "outputs": [],
   "source": []
  }
 ],
 "metadata": {
  "celltoolbar": "Tags",
  "kernelspec": {
   "display_name": "Python 3 (ipykernel)",
   "language": "python",
   "name": "python3"
  },
  "language_info": {
   "codemirror_mode": {
    "name": "ipython",
    "version": 3
   },
   "file_extension": ".py",
   "mimetype": "text/x-python",
   "name": "python",
   "nbconvert_exporter": "python",
   "pygments_lexer": "ipython3",
   "version": "3.10.10"
  }
 },
 "nbformat": 4,
 "nbformat_minor": 5
}
